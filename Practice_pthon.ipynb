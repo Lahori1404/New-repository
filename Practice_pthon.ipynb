{
  "nbformat": 4,
  "nbformat_minor": 0,
  "metadata": {
    "colab": {
      "name": "Practice_pthon.ipynb",
      "provenance": [],
      "collapsed_sections": [],
      "authorship_tag": "ABX9TyMmRaGDPK5if9C7pJ59vdB8",
      "include_colab_link": true
    },
    "kernelspec": {
      "name": "python3",
      "display_name": "Python 3"
    },
    "language_info": {
      "name": "python"
    }
  },
  "cells": [
    {
      "cell_type": "markdown",
      "metadata": {
        "id": "view-in-github",
        "colab_type": "text"
      },
      "source": [
        "<a href=\"https://colab.research.google.com/github/Lahori1404/Practice_Python/blob/main/Practice_pthon.ipynb\" target=\"_parent\"><img src=\"https://colab.research.google.com/assets/colab-badge.svg\" alt=\"Open In Colab\"/></a>"
      ]
    },
    {
      "cell_type": "code",
      "execution_count": null,
      "metadata": {
        "id": "Qt4CuhuluGAu"
      },
      "outputs": [],
      "source": [
        "import seaborn as sns\n",
        "import numpy as np\n",
        "import statistics\n",
        "import scipy\n",
        "from scipy import stats\n",
        "import matplotlib.pyplot as plt\n",
        "%matplotlib inline\n",
        "\n"
      ]
    },
    {
      "cell_type": "code",
      "source": [
        "dF = sns.load_dataset('diamonds', nrows = 50)\n",
        "\n",
        "dF.loc[6,'carat'] = 2.12\n",
        "dF.loc[21,'carat'] = 1.13\n",
        "dF.loc[31,'carat'] = 1.15\n",
        "dF.loc[11,'carat'] = -0.19\n",
        "dF.loc[44,'carat'] = -0.35\n",
        "\n",
        "\n",
        "print(dF.to_string())"
      ],
      "metadata": {
        "id": "3Xy5Myn65YH4"
      },
      "execution_count": null,
      "outputs": []
    },
    {
      "cell_type": "code",
      "source": [
        "# mean, trimmed_mean , median.\n",
        "print(dF['carat'].mean(),\n",
        "stats.trim_mean(dF['carat'],0.1),\n",
        "dF['carat'].median())\n"
      ],
      "metadata": {
        "id": "J99Daan3-m2h"
      },
      "execution_count": null,
      "outputs": []
    },
    {
      "cell_type": "code",
      "source": [
        "# finding outliers\n",
        "IQR = dF['carat'].quantile(0.75) - dF['carat'].quantile(0.25)\n",
        "lower = dF['carat'].quantile(0.25) - 1.5*(IQR)\n",
        "upper = dF['carat'].quantile(0.75) + 1.5*(IQR)\n",
        "\n",
        "dfCopy = dF.copy()\n",
        "\n",
        "for i in dfCopy.index:\n",
        "  if dfCopy.loc[i,'carat'] < lower or dfCopy.loc[i,'carat'] > upper:\n",
        "    dfCopy.drop(i,inplace = True)\n",
        "\n",
        "sns.histplot(dfCopy['carat'])"
      ],
      "metadata": {
        "id": "jl8rE4biELTr"
      },
      "execution_count": null,
      "outputs": []
    }
  ]
}