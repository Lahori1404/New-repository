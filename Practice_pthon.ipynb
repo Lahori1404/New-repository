{
  "nbformat": 4,
  "nbformat_minor": 0,
  "metadata": {
    "colab": {
      "name": "Practice_pthon.ipynb",
      "provenance": [],
      "collapsed_sections": [],
      "authorship_tag": "ABX9TyM7LTH10cCNMf/qnNN+ho78",
      "include_colab_link": true
    },
    "kernelspec": {
      "name": "python3",
      "display_name": "Python 3"
    },
    "language_info": {
      "name": "python"
    }
  },
  "cells": [
    {
      "cell_type": "markdown",
      "metadata": {
        "id": "view-in-github",
        "colab_type": "text"
      },
      "source": [
        "<a href=\"https://colab.research.google.com/github/Lahori1404/New-repository/blob/main/Practice_pthon.ipynb\" target=\"_parent\"><img src=\"https://colab.research.google.com/assets/colab-badge.svg\" alt=\"Open In Colab\"/></a>"
      ]
    },
    {
      "cell_type": "code",
      "execution_count": 49,
      "metadata": {
        "id": "Qt4CuhuluGAu"
      },
      "outputs": [],
      "source": [
        "import seaborn as sns\n",
        "import numpy as np\n",
        "import statistics\n",
        "import scipy\n",
        "from scipy import stats\n",
        "import matplotlib.pyplot as plt\n",
        "%matplotlib inline\n",
        "\n"
      ]
    },
    {
      "cell_type": "code",
      "source": [
        "dF = sns.load_dataset('diamonds', nrows = 50)\n",
        "\n",
        "dF.loc[6,'carat'] = 2.12\n",
        "dF.loc[21,'carat'] = 1.13\n",
        "dF.loc[31,'carat'] = 1.15\n",
        "dF.loc[11,'carat'] = -0.79\n",
        "dF.loc[44,'carat'] = -0.35\n",
        "\n",
        "\n",
        "print(dF.to_string())"
      ],
      "metadata": {
        "colab": {
          "base_uri": "https://localhost:8080/"
        },
        "id": "3Xy5Myn65YH4",
        "outputId": "e13525ed-c5d4-419b-9cc2-202444959882"
      },
      "execution_count": 92,
      "outputs": [
        {
          "output_type": "stream",
          "name": "stdout",
          "text": [
            "    carat        cut color clarity  depth  table  price     x     y     z\n",
            "0    0.23      Ideal     E     SI2   61.5     55    326  3.95  3.98  2.43\n",
            "1    0.21    Premium     E     SI1   59.8     61    326  3.89  3.84  2.31\n",
            "2    0.23       Good     E     VS1   56.9     65    327  4.05  4.07  2.31\n",
            "3    0.29    Premium     I     VS2   62.4     58    334  4.20  4.23  2.63\n",
            "4    0.31       Good     J     SI2   63.3     58    335  4.34  4.35  2.75\n",
            "5    0.24  Very Good     J    VVS2   62.8     57    336  3.94  3.96  2.48\n",
            "6    2.12  Very Good     I    VVS1   62.3     57    336  3.95  3.98  2.47\n",
            "7    0.26  Very Good     H     SI1   61.9     55    337  4.07  4.11  2.53\n",
            "8    0.22       Fair     E     VS2   65.1     61    337  3.87  3.78  2.49\n",
            "9    0.23  Very Good     H     VS1   59.4     61    338  4.00  4.05  2.39\n",
            "10   0.30       Good     J     SI1   64.0     55    339  4.25  4.28  2.73\n",
            "11  -0.79      Ideal     J     VS1   62.8     56    340  3.93  3.90  2.46\n",
            "12   0.22    Premium     F     SI1   60.4     61    342  3.88  3.84  2.33\n",
            "13   0.31      Ideal     J     SI2   62.2     54    344  4.35  4.37  2.71\n",
            "14   0.20    Premium     E     SI2   60.2     62    345  3.79  3.75  2.27\n",
            "15   0.32    Premium     E      I1   60.9     58    345  4.38  4.42  2.68\n",
            "16   0.30      Ideal     I     SI2   62.0     54    348  4.31  4.34  2.68\n",
            "17   0.30       Good     J     SI1   63.4     54    351  4.23  4.29  2.70\n",
            "18   0.30       Good     J     SI1   63.8     56    351  4.23  4.26  2.71\n",
            "19   0.30  Very Good     J     SI1   62.7     59    351  4.21  4.27  2.66\n",
            "20   0.30       Good     I     SI2   63.3     56    351  4.26  4.30  2.71\n",
            "21   1.13  Very Good     E     VS2   63.8     55    352  3.85  3.92  2.48\n",
            "22   0.23  Very Good     H     VS1   61.0     57    353  3.94  3.96  2.41\n",
            "23   0.31  Very Good     J     SI1   59.4     62    353  4.39  4.43  2.62\n",
            "24   0.31  Very Good     J     SI1   58.1     62    353  4.44  4.47  2.59\n",
            "25   0.23  Very Good     G    VVS2   60.4     58    354  3.97  4.01  2.41\n",
            "26   0.24    Premium     I     VS1   62.5     57    355  3.97  3.94  2.47\n",
            "27   0.30  Very Good     J     VS2   62.2     57    357  4.28  4.30  2.67\n",
            "28   0.23  Very Good     D     VS2   60.5     61    357  3.96  3.97  2.40\n",
            "29   0.23  Very Good     F     VS1   60.9     57    357  3.96  3.99  2.42\n",
            "30   0.23  Very Good     F     VS1   60.0     57    402  4.00  4.03  2.41\n",
            "31   1.15  Very Good     F     VS1   59.8     57    402  4.04  4.06  2.42\n",
            "32   0.23  Very Good     E     VS1   60.7     59    402  3.97  4.01  2.42\n",
            "33   0.23  Very Good     E     VS1   59.5     58    402  4.01  4.06  2.40\n",
            "34   0.23  Very Good     D     VS1   61.9     58    402  3.92  3.96  2.44\n",
            "35   0.23       Good     F     VS1   58.2     59    402  4.06  4.08  2.37\n",
            "36   0.23       Good     E     VS1   64.1     59    402  3.83  3.85  2.46\n",
            "37   0.31       Good     H     SI1   64.0     54    402  4.29  4.31  2.75\n",
            "38   0.26  Very Good     D     VS2   60.8     59    403  4.13  4.16  2.52\n",
            "39   0.33      Ideal     I     SI2   61.8     55    403  4.49  4.51  2.78\n",
            "40   0.33      Ideal     I     SI2   61.2     56    403  4.49  4.50  2.75\n",
            "41   0.33      Ideal     J     SI1   61.1     56    403  4.49  4.55  2.76\n",
            "42   0.26       Good     D     VS2   65.2     56    403  3.99  4.02  2.61\n",
            "43   0.26       Good     D     VS1   58.4     63    403  4.19  4.24  2.46\n",
            "44  -0.35       Good     H     SI2   63.1     56    403  4.34  4.37  2.75\n",
            "45   0.29    Premium     F     SI1   62.4     58    403  4.24  4.26  2.65\n",
            "46   0.32  Very Good     H     SI2   61.8     55    403  4.35  4.42  2.71\n",
            "47   0.32       Good     H     SI2   63.8     56    403  4.36  4.38  2.79\n",
            "48   0.25  Very Good     E     VS2   63.3     60    404  4.00  4.03  2.54\n",
            "49   0.29  Very Good     H     SI2   60.7     60    404  4.33  4.37  2.64\n"
          ]
        }
      ]
    },
    {
      "cell_type": "code",
      "source": [
        "# mean, trimmed_mean , median.\n",
        "print(dF['carat'].mean(),\n",
        "stats.trim_mean(dF['carat'],0.1),\n",
        "dF['carat'].median())\n"
      ],
      "metadata": {
        "id": "J99Daan3-m2h"
      },
      "execution_count": null,
      "outputs": []
    },
    {
      "cell_type": "code",
      "source": [
        "# finding outliers\n",
        "IQR = dF['carat'].quantile(0.75) - dF['carat'].quantile(0.25)\n",
        "lower = dF['carat'].quantile(0.25) - 1.5*(IQR)\n",
        "upper = dF['carat'].quantile(0.75) + 1.5*(IQR)\n",
        "\n",
        "dfCopy = dF.copy()\n",
        "\n",
        "for i in dfCopy.index:\n",
        "  if dfCopy.loc[i,'carat'] < lower or dfCopy.loc[i,'carat'] > upper:\n",
        "    dfCopy.drop(i,inplace = True)\n",
        "\n",
        "sns.histplot(dfCopy['carat'])"
      ],
      "metadata": {
        "colab": {
          "base_uri": "https://localhost:8080/",
          "height": 297
        },
        "id": "jl8rE4biELTr",
        "outputId": "78106e1f-fa51-406b-8772-7fd1ed10dbc2"
      },
      "execution_count": 113,
      "outputs": [
        {
          "output_type": "execute_result",
          "data": {
            "text/plain": [
              "<matplotlib.axes._subplots.AxesSubplot at 0x7fa662ca15d0>"
            ]
          },
          "metadata": {},
          "execution_count": 113
        },
        {
          "output_type": "display_data",
          "data": {
            "text/plain": [
              "<Figure size 432x288 with 1 Axes>"
            ],
            "image/png": "[encoded data removed]"
          },
          "metadata": {
            "needs_background": "light"
          }
        }
      ]
    }
  ]
}